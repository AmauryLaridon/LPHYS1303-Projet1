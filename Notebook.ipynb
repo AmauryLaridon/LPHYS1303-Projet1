{
 "cells": [
  {
   "cell_type": "markdown",
   "metadata": {},
   "source": [
    "# LPHYS1303 Simulation Numérique pour la Physique : Projet 1 - Soliton\n",
    "--- \n",
    "## Auteurs : Augustin Basilavechia, Amaury Laridon\n",
    "---\n"
   ]
  },
  {
   "cell_type": "markdown",
   "metadata": {},
   "source": [
    "## Schéma Upwind"
   ]
  },
  {
   "cell_type": "markdown",
   "metadata": {},
   "source": [
    "### Condition Initiale $cos(\\pi x)$"
   ]
  },
  {
   "cell_type": "code",
   "execution_count": 6,
   "metadata": {},
   "outputs": [],
   "source": [
    "import numpy as np\n",
    "import matplotlib.pyplot as plt\n",
    "from matplotlib.pyplot import cm"
   ]
  },
  {
   "cell_type": "code",
   "execution_count": 7,
   "metadata": {},
   "outputs": [
    {
     "name": "stdout",
     "output_type": "stream",
     "text": [
      "Résolution numérique avec une grille spatiale de 200 points\n",
      "Résolution numérique avec une grille temporelle de 150000 points\n",
      "Paramètres numérique : L = 2.0, T = 1.5s, h = 0.01, k = 1e-05, delta = 0.022\n"
     ]
    },
    {
     "name": "stderr",
     "output_type": "stream",
     "text": [
      "<ipython-input-7-79bde94ef316>:37: RuntimeWarning: overflow encountered in multiply\n",
      "  U[2:-2, j+1] = U[2:-2, j]-(k/h)*(U[2:-2, j]-U[1:-3, j])*U[2:-2, j]-((delta**2)*k/(2*(h)**3))*(U[4:, j]-2*U[3:-1, j]\n",
      "<ipython-input-7-79bde94ef316>:37: RuntimeWarning: invalid value encountered in subtract\n",
      "  U[2:-2, j+1] = U[2:-2, j]-(k/h)*(U[2:-2, j]-U[1:-3, j])*U[2:-2, j]-((delta**2)*k/(2*(h)**3))*(U[4:, j]-2*U[3:-1, j]\n"
     ]
    },
    {
     "name": "stdout",
     "output_type": "stream",
     "text": [
      "(200, 150000)\n",
      "[[1.         0.         0.         ... 0.         0.         0.        ]\n",
      " [0.99950656 0.         0.         ... 0.         0.         0.        ]\n",
      " [0.99802673 0.9980282  0.99944974 ...        nan        nan        nan]\n",
      " ...\n",
      " [0.99556196 0.99555855 0.99314349 ...        nan        nan        nan]\n",
      " [0.99802673 0.         0.         ... 0.         0.         0.        ]\n",
      " [0.99950656 0.         0.         ... 0.         0.         0.        ]]\n"
     ]
    }
   ],
   "source": [
    "def f_cos(x_grid):\n",
    "    \"\"\"fonction initiale de cos\"\"\"\n",
    "    N = x_grid.size\n",
    "    U0 = np.zeros(N)\n",
    "    for i in range(N):\n",
    "        U0[i] = np.cos(np.pi*x_grid[i])\n",
    "    return(U0)\n",
    "\n",
    "x_L = 0.0\n",
    "x_R = 2.0\n",
    "L = x_R - x_L\n",
    "h = 0.01\n",
    "N = L/h\n",
    "N = int(N)\n",
    "x_grid = np.linspace(x_L, x_R - h, N)\n",
    "print(\"Résolution numérique avec une grille spatiale de {} points\".format(N))\n",
    "t_0 = 0\n",
    "T = 1.5\n",
    "k = 0.00001\n",
    "M = T/k\n",
    "M = int(M)\n",
    "t_grid = np.linspace(t_0, T-k, M)\n",
    "print(\"Résolution numérique avec une grille temporelle de {} points\".format(M))\n",
    "delta = 0.022\n",
    "print(\"Paramètres numérique : L = {}, T = {}s, h = {}, k = {}, delta = {}\".format(L, T, h, k, delta))\n",
    "\n",
    "\n",
    "def Upwind_KdV(U0, x_grid, t_grid, T, delta):\n",
    "    \"\"\"Schéma Upwind pour l équation de KdV\"\"\"\n",
    "    h = np.abs(x_grid[1]-x_grid[0])\n",
    "    k = np.abs(t_grid[1]-x_grid[0])\n",
    "    U = np.zeros((np.shape(x_grid)[0], np.shape(t_grid)[0]), dtype=np.float64)\n",
    "    M = np.shape(t_grid)[0]\n",
    "    U[:, 0] = U0\n",
    "    for j in range(M-1):\n",
    "        # Implémentation schéma\n",
    "        U[2:-2, j+1] = U[2:-2, j]-(k/h)*(U[2:-2, j]-U[1:-3, j])*U[2:-2, j]-((delta**2)*k/(2*(h)**3))*(U[4:, j]-2*U[3:-1, j]\n",
    "        +2*U[1:-3, j]-U[0:-4, j])\n",
    "        # Conditions aux bords\n",
    "        U[0, j+1] = 0\n",
    "        U[1, j+1] = 0\n",
    "        U[-2, j+1] = 0\n",
    "        U[-1, j+1] = 0\n",
    "        #U[0,:] = U[-1,:]\n",
    "        #U[1,:] = U[-2,:]    #Tentative d'implémenter des conditions aux bords périodiques cfr plus bas mais ça ne change rien\n",
    "    return U\n",
    "\n",
    "#Initialisiation\n",
    "U0 = f_cos(x_grid)\n",
    "Upwind = Upwind_KdV(U0, x_grid, t_grid, T, delta)\n",
    "print(np.shape(Upwind))\n",
    "print(Upwind)\n"
   ]
  },
  {
   "cell_type": "code",
   "execution_count": 8,
   "metadata": {},
   "outputs": [
    {
     "data": {
      "image/png": "[encoded data removed]",
      "text/plain": [
       "<Figure size 432x288 with 1 Axes>"
      ]
     },
     "metadata": {
      "needs_background": "light"
     },
     "output_type": "display_data"
    }
   ],
   "source": [
    "#Plot d'instantanné avec la CI de cos()\n",
    "t_span = [0, 1/np.pi, 3.6/np.pi]\n",
    "n0 = 0\n",
    "plt.plot(x_grid, Upwind[:, n0], label=\"$t = {:2.2f}s$\".format(t_grid[n0]), marker=',')\n",
    "n1 = int(np.floor(t_span[1]/k))\n",
    "t1 = 6000*k\n",
    "plt.plot(x_grid, Upwind[:, 6000], label=\"$t = {:2.2f} \\;s$\".format(t1), marker='+')\n",
    "#Je veux plot au même temps de référence que ceux de l'article mais je ne sais pas pourquoi je n'ai plus aucune valeur\n",
    "#pour des temps plus grand que 0.06s, je suspecte les 'nan' qui apparaissent trop vite dans le matrice U comme étant\n",
    "#l'origine du problème mais j'ai beau avoir relu toute mon implémentation je ne trouve pas l'erreur :/ En attendant j'ai plot_surface\n",
    "#pour t = 0.06s et là le résultat semble cohérent avec ce qu'ils ont dans l'article pour leur premier temps.\n",
    "#Update: dans l'article ils parlent de conditions aux bords périodiques or ici je suis pas sûr de les implémenter, peut-être le soucis\n",
    "#vient de là ? Si oui je ne comprend pas comment les rajouter ??\n",
    "n2 = int(np.floor(t_span[2]/k))\n",
    "plt.plot(x_grid, Upwind[:, n2], label=\"$t = 3.6/ \\pi \\; s$\", marker='x')\n",
    "# plt.plot(uu[:, n], label=\"Theorical Solution $t = {:2.2f}s$\".format(t[n]))\n",
    "plt.ylim([-1, 1.5])\n",
    "plt.xlabel(\"$x$\")\n",
    "plt.ylabel(\"$u(x,t)$\")\n",
    "plt.title('Instantannés de la résolution de KdV par le schéma Upwind, CI = cos ,$\\delta = {}$'.format(delta))\n",
    "plt.legend()\n",
    "plt.show()\n",
    "plt.close()"
   ]
  },
  {
   "cell_type": "code",
   "execution_count": 9,
   "metadata": {},
   "outputs": [
    {
     "data": {
      "image/png": "[encoded data removed]",
      "text/plain": [
       "<Figure size 432x288 with 2 Axes>"
      ]
     },
     "metadata": {
      "needs_background": "light"
     },
     "output_type": "display_data"
    }
   ],
   "source": [
    "#Plot 2D\n",
    "[xx,tt]=np.meshgrid(x_grid,t_grid)\n",
    "a = plt.contourf(xx,tt, Upwind.T)\n",
    "plt.xlabel(\"x\")\n",
    "plt.ylabel(\"t\")\n",
    "#Si je vais tourner pour afficher ça, ça fait planter mon ordi ^^ en prenant T = 5s, pour T=1.5s ça plante plus\n",
    "#mais le graphe n'est pas bon.\n",
    "plt.colorbar(a)\n",
    "plt.show()"
   ]
  },
  {
   "cell_type": "markdown",
   "metadata": {},
   "source": [
    "### Condition initiale $sech^2$"
   ]
  },
  {
   "cell_type": "code",
   "execution_count": 11,
   "metadata": {},
   "outputs": [
    {
     "name": "stdout",
     "output_type": "stream",
     "text": [
      "Résolution numérique avec une grille spatiale de 230 points\n",
      "Résolution numérique avec une grille temporelle de 199999 points\n",
      "Paramètres numérique : L = 40, T = 2s, h = 0.1739, k = 1e-05, delta = 0.022\n"
     ]
    },
    {
     "name": "stderr",
     "output_type": "stream",
     "text": [
      "<ipython-input-7-79bde94ef316>:37: RuntimeWarning: overflow encountered in multiply\n",
      "  U[2:-2, j+1] = U[2:-2, j]-(k/h)*(U[2:-2, j]-U[1:-3, j])*U[2:-2, j]-((delta**2)*k/(2*(h)**3))*(U[4:, j]-2*U[3:-1, j]\n",
      "<ipython-input-7-79bde94ef316>:37: RuntimeWarning: invalid value encountered in subtract\n",
      "  U[2:-2, j+1] = U[2:-2, j]-(k/h)*(U[2:-2, j]-U[1:-3, j])*U[2:-2, j]-((delta**2)*k/(2*(h)**3))*(U[4:, j]-2*U[3:-1, j]\n",
      "<ipython-input-7-79bde94ef316>:37: RuntimeWarning: invalid value encountered in add\n",
      "  U[2:-2, j+1] = U[2:-2, j]-(k/h)*(U[2:-2, j]-U[1:-3, j])*U[2:-2, j]-((delta**2)*k/(2*(h)**3))*(U[4:, j]-2*U[3:-1, j]\n"
     ]
    },
    {
     "name": "stdout",
     "output_type": "stream",
     "text": [
      "(230, 199999)\n",
      "[[2.08140725e-12 0.00000000e+00 0.00000000e+00 ... 0.00000000e+00\n",
      "  0.00000000e+00 0.00000000e+00]\n",
      " [2.66177846e-12 0.00000000e+00 0.00000000e+00 ... 0.00000000e+00\n",
      "  0.00000000e+00 0.00000000e+00]\n",
      " [3.40397804e-12 3.30936191e-12 6.11765124e-12 ...            nan\n",
      "             nan            nan]\n",
      " ...\n",
      " [4.35304891e-12 4.47404519e-12 6.77418007e-13 ...            nan\n",
      "             nan            nan]\n",
      " [3.40391498e-12 0.00000000e+00 0.00000000e+00 ... 0.00000000e+00\n",
      "  0.00000000e+00 0.00000000e+00]\n",
      " [2.66172915e-12 0.00000000e+00 0.00000000e+00 ... 0.00000000e+00\n",
      "  0.00000000e+00 0.00000000e+00]]\n"
     ]
    }
   ],
   "source": [
    "######Condition initiale de sech^2#####\n",
    "def f_sech(x_grid):\n",
    "    \"\"\"fonction initiale de sech^2\"\"\"\n",
    "    N = x_grid.size\n",
    "    U0 = np.zeros(N)\n",
    "    k = 1/np.sqrt(2)\n",
    "    A = 2*(k**2)\n",
    "    for i in range(N):\n",
    "        U0[i] = A*(1/np.cosh(k*x_grid[i]))**2\n",
    "    return(U0)\n",
    "\n",
    "h = 0.1739\n",
    "k = 0.00001\n",
    "x_L = -20\n",
    "x_R = 20\n",
    "L = x_R - x_L\n",
    "N = L/h\n",
    "N = int(N)\n",
    "x_grid = np.linspace(x_L, x_R - h, N)\n",
    "print(\"Résolution numérique avec une grille spatiale de {} points\".format(N))\n",
    "t_0 = 0\n",
    "T = 2\n",
    "M = T/k\n",
    "M = int(M)\n",
    "t_grid = np.linspace(t_0, T-k, M)\n",
    "print(\"Résolution numérique avec une grille temporelle de {} points\".format(M))\n",
    "delta = 0.022\n",
    "print(\"Paramètres numérique : L = {}, T = {}s, h = {}, k = {}, delta = {}\".format(L, T, h, k, delta))\n",
    "\n",
    "#Initialisiation\n",
    "U0 = f_sech(x_grid)\n",
    "Upwind = Upwind_KdV(U0, x_grid, t_grid, T, delta)\n",
    "print(np.shape(Upwind))\n",
    "print(Upwind)"
   ]
  },
  {
   "cell_type": "code",
   "execution_count": 12,
   "metadata": {},
   "outputs": [
    {
     "data": {
      "image/png": "[encoded data removed]",
      "text/plain": [
       "<Figure size 432x288 with 1 Axes>"
      ]
     },
     "metadata": {
      "needs_background": "light"
     },
     "output_type": "display_data"
    }
   ],
   "source": [
    "\n",
    "#Plot d'instantanné avec la CI de cos()\n",
    "t_span = [0, 1/np.pi, 3.6/np.pi]\n",
    "n0 = 0\n",
    "plt.plot(x_grid, Upwind[:, n0], label=\"$t = {:2.2f}s$\".format(t_grid[n0]), marker=',')\n",
    "n1 = int(np.floor(t_span[1]/k))\n",
    "t1 = 6000*k\n",
    "plt.plot(x_grid, Upwind[:, 10], label=\"$t = {:2.2f} \\;s$\".format(t1), marker='+')\n",
    "n2 = int(np.floor(t_span[2]/k))\n",
    "plt.plot(x_grid, Upwind[:, n2], label=\"$t = 3.6/ \\pi \\; s$\", marker='x')\n",
    "# plt.plot(uu[:, n], label=\"Theorical Solution $t = {:2.2f}s$\".format(t[n]))\n",
    "#Même problème qu'au dessus le schéma est (dans l'état actuel de son implémentation) n'est pas du tout stable et je n'ai pas de\n",
    "#pour leurs temps de référence. Pour des instants 10**-4s après le début on voit déjà que ça part en couille.\n",
    "plt.ylim([-0.5, 2])\n",
    "plt.xlabel(\"$x$\")\n",
    "plt.ylabel(\"$u(x,t)$\")\n",
    "plt.title('Instantannés de la résolution de KdV par le schéma Upwind, CI = sech^2, $\\delta = {}$'.format(delta))\n",
    "plt.legend()\n",
    "plt.show()\n",
    "plt.close()"
   ]
  },
  {
   "cell_type": "code",
   "execution_count": null,
   "metadata": {},
   "outputs": [],
   "source": []
  }
 ],
 "metadata": {
  "kernelspec": {
   "display_name": "Python 3",
   "language": "python",
   "name": "python3"
  },
  "language_info": {
   "codemirror_mode": {
    "name": "ipython",
    "version": 3
   },
   "file_extension": ".py",
   "mimetype": "text/x-python",
   "name": "python",
   "nbconvert_exporter": "python",
   "pygments_lexer": "ipython3",
   "version": "3.8.5"
  }
 },
 "nbformat": 4,
 "nbformat_minor": 4
}
